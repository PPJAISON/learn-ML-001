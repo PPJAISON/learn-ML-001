{
 "cells": [
  {
   "cell_type": "code",
   "execution_count": 1,
   "id": "67ef0801",
   "metadata": {},
   "outputs": [
    {
     "name": "stdout",
     "output_type": "stream",
     "text": [
      "another section\n"
     ]
    }
   ],
   "source": [
    "print (\"another section\")"
   ]
  },
  {
   "cell_type": "code",
   "execution_count": null,
   "id": "89f805bf",
   "metadata": {},
   "outputs": [],
   "source": []
  }
 ],
 "metadata": {
  "kernelspec": {
   "display_name": "Python 3 (ipykernel)",
   "language": "python",
   "name": "python3"
  },
  "language_info": {
   "codemirror_mode": {
    "name": "ipython",
    "version": 3
   },
   "file_extension": ".py",
   "mimetype": "text/x-python",
   "name": "python",
   "nbconvert_exporter": "python",
   "pygments_lexer": "ipython3",
   "version": "3.10.9"
  }
 },
 "nbformat": 4,
 "nbformat_minor": 5
}
