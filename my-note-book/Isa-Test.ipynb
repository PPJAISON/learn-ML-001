{
 "cells": [
  {
   "cell_type": "code",
   "execution_count": 4,
   "id": "f3b17310",
   "metadata": {},
   "outputs": [],
   "source": [
    "## Write a program to take accept only particalar format of number xxx-xxx-xxxx"
   ]
  },
  {
   "cell_type": "code",
   "execution_count": 15,
   "id": "64a3d854",
   "metadata": {},
   "outputs": [
    {
     "name": "stdout",
     "output_type": "stream",
     "text": [
      "988-092-3659  Valid phone number\n",
      "123456  Inalid phone number\n",
      "3433432  Inalid phone number\n",
      "948-289-40963  Valid phone number\n",
      "948-789-40963  Valid phone number\n"
     ]
    }
   ],
   "source": [
    "import re\n",
    "\n",
    "arr_phoneNumber=[]\n",
    "arr_phoneNumber.append(\"988-092-3659\")\n",
    "arr_phoneNumber.append(\"123456\") \n",
    "arr_phoneNumber.append(\"3433432\")\n",
    "arr_phoneNumber.append(\"948-289-40963\")\n",
    "arr_phoneNumber.append(\"948-789-40963\")\n",
    "\n",
    "number_pattern= r'\\d{3}-\\d{3}-\\d{4}'\n",
    "\n",
    "for phoneNumber in arr_phoneNumber:   \n",
    "    if re.match(number_pattern, phoneNumber):\n",
    "        print(phoneNumber, \" Valid phone number\")\n",
    "    else:\n",
    "        print(phoneNumber, \" Inalid phone number\")        "
   ]
  },
  {
   "cell_type": "code",
   "execution_count": null,
   "id": "17d67973",
   "metadata": {},
   "outputs": [],
   "source": [
    "array_phoneNumber=[]\n"
   ]
  },
  {
   "cell_type": "code",
   "execution_count": null,
   "id": "36a7c5c1",
   "metadata": {},
   "outputs": [],
   "source": [
    "for i in range(numbe_of_inputs):\n",
    "    array_phoneNumber.append(input(\"contacts-number\"))"
   ]
  },
  {
   "cell_type": "code",
   "execution_count": null,
   "id": "b1790e50",
   "metadata": {},
   "outputs": [],
   "source": [
    "numbe_of_inputs = input(\"Number of contacts? \")"
   ]
  },
  {
   "cell_type": "code",
   "execution_count": null,
   "id": "85f71650",
   "metadata": {},
   "outputs": [],
   "source": []
  }
 ],
 "metadata": {
  "kernelspec": {
   "display_name": "Python 3 (ipykernel)",
   "language": "python",
   "name": "python3"
  },
  "language_info": {
   "codemirror_mode": {
    "name": "ipython",
    "version": 3
   },
   "file_extension": ".py",
   "mimetype": "text/x-python",
   "name": "python",
   "nbconvert_exporter": "python",
   "pygments_lexer": "ipython3",
   "version": "3.10.9"
  }
 },
 "nbformat": 4,
 "nbformat_minor": 5
}
